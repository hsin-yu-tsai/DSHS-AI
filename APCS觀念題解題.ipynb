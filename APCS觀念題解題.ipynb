{
  "nbformat": 4,
  "nbformat_minor": 0,
  "metadata": {
    "colab": {
      "name": "APCS觀念題解題.ipynb",
      "provenance": [],
      "authorship_tag": "ABX9TyOoG9Muaq+SUk6/ikH7/BNX",
      "include_colab_link": true
    },
    "kernelspec": {
      "name": "python3",
      "display_name": "Python 3"
    }
  },
  "cells": [
    {
      "cell_type": "markdown",
      "metadata": {
        "id": "view-in-github",
        "colab_type": "text"
      },
      "source": [
        "<a href=\"https://colab.research.google.com/github/hsin-yu-tsai/DSHS-AI/blob/master/APCS%E8%A7%80%E5%BF%B5%E9%A1%8C%E8%A7%A3%E9%A1%8C.ipynb\" target=\"_parent\"><img src=\"https://colab.research.google.com/assets/colab-badge.svg\" alt=\"Open In Colab\"/></a>"
      ]
    },
    {
      "cell_type": "code",
      "metadata": {
        "id": "YBI4hSc8Se6N",
        "outputId": "188b84c2-2c34-4500-8f19-2f76531113e6",
        "colab": {
          "base_uri": "https://localhost:8080/",
          "height": 34
        }
      },
      "source": [
        "a=[]\n",
        "b=[]\n",
        "\n",
        "a.append(0)\n",
        "b.append(0)\n",
        "\n",
        "for i in range(1,101):\n",
        "  b.append(i)\n",
        "\n",
        "for j in range(1,100):\n",
        "  a.append(b[j]+a[j-1])\n",
        "\n",
        "a[50]-a[30]"
      ],
      "execution_count": 1,
      "outputs": [
        {
          "output_type": "execute_result",
          "data": {
            "text/plain": [
              "810"
            ]
          },
          "metadata": {
            "tags": []
          },
          "execution_count": 1
        }
      ]
    }
  ]
}