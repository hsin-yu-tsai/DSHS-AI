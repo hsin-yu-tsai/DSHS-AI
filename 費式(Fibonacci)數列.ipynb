{
  "nbformat": 4,
  "nbformat_minor": 0,
  "metadata": {
    "colab": {
      "name": "費式(Fibonacci)數列.ipynb",
      "provenance": [],
      "authorship_tag": "ABX9TyPQZB9pD/IZqyp6PEkeu4/X",
      "include_colab_link": true
    },
    "kernelspec": {
      "name": "python3",
      "display_name": "Python 3"
    }
  },
  "cells": [
    {
      "cell_type": "markdown",
      "metadata": {
        "id": "view-in-github",
        "colab_type": "text"
      },
      "source": [
        "<a href=\"https://colab.research.google.com/github/hsin-yu-tsai/DSHS-AI/blob/master/%E8%B2%BB%E5%BC%8F(Fibonacci)%E6%95%B8%E5%88%97.ipynb\" target=\"_parent\"><img src=\"https://colab.research.google.com/assets/colab-badge.svg\" alt=\"Open In Colab\"/></a>"
      ]
    },
    {
      "cell_type": "code",
      "metadata": {
        "id": "flkcVUNsSa4a",
        "outputId": "33e0ab24-e815-4dd1-d7d5-0b0b0f65dd2d",
        "colab": {
          "base_uri": "https://localhost:8080/",
          "height": 34
        }
      },
      "source": [
        "def fibonacci(n, fib = [0, 1]):\n",
        "    if n >= len(fib):\n",
        "        for i in range(len(fib), n + 1):\n",
        "            fib.append(fib[i - 1] + fib[i - 2])\n",
        "    return fib[n]\n",
        "\n",
        "for i in range(0, 10):         #費氏數列的前10個數字\n",
        "    print(fibonacci(i), end=' ')"
      ],
      "execution_count": 4,
      "outputs": [
        {
          "output_type": "stream",
          "text": [
            "0 1 1 2 3 5 8 13 21 34 "
          ],
          "name": "stdout"
        }
      ]
    },
    {
      "cell_type": "code",
      "metadata": {
        "id": "q7_CHkK2KHIW",
        "outputId": "a4a4df85-e09b-47ca-ee7d-f566843ab655",
        "colab": {
          "base_uri": "https://localhost:8080/",
          "height": 34
        }
      },
      "source": [
        "def fibonacci(n, fib = [0, 1]):\n",
        "    if n >= len(fib):\n",
        "        for i in range(len(fib), n + 1):\n",
        "            fib.append(fib[i - 1] + fib[i - 2])\n",
        "    return fib[n]\n",
        "\n",
        "for i in range(0, 13):         #12個月分別的兔子對數\n",
        "    print(fibonacci(i), end=' ')"
      ],
      "execution_count": 2,
      "outputs": [
        {
          "output_type": "stream",
          "text": [
            "0 1 1 2 3 5 8 13 21 34 55 89 144 "
          ],
          "name": "stdout"
        }
      ]
    }
  ]
}