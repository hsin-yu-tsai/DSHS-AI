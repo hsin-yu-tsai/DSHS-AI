{
  "nbformat": 4,
  "nbformat_minor": 0,
  "metadata": {
    "colab": {
      "name": "藏頭唐詩生成器.ipynb",
      "provenance": [],
      "authorship_tag": "ABX9TyNRxfg/DUCAdAFuB7nVJ4rN",
      "include_colab_link": true
    },
    "kernelspec": {
      "name": "python3",
      "display_name": "Python 3"
    }
  },
  "cells": [
    {
      "cell_type": "markdown",
      "metadata": {
        "id": "view-in-github",
        "colab_type": "text"
      },
      "source": [
        "<a href=\"https://colab.research.google.com/github/hsin-yu-tsai/DSHS-AI/blob/master/%E8%97%8F%E9%A0%AD%E5%94%90%E8%A9%A9%E7%94%9F%E6%88%90%E5%99%A8.ipynb\" target=\"_parent\"><img src=\"https://colab.research.google.com/assets/colab-badge.svg\" alt=\"Open In Colab\"/></a>"
      ]
    },
    {
      "cell_type": "code",
      "metadata": {
        "id": "VXxJNmWdKWrc",
        "outputId": "565c0ba4-a2e1-429b-bc79-670bf477502c",
        "colab": {
          "base_uri": "https://localhost:8080/",
          "height": 175
        }
      },
      "source": [
        "f_original = open(\"300.txt\", \"r\")\n",
        "f_cleaned = open(\"300cleaned.txt\", \"w\")\n",
        "Lines = f_original.readlines() \n",
        "  \n",
        "for line in Lines: \n",
        "    if '詩文:' in line:\n",
        "        stripped = line.strip('詩文:')\n",
        "        stripped = stripped.replace(\"，\", \"\\n\").replace(\"。\", \"\\n\").replace(\"？\", \"\\n\")\n",
        "        f_cleaned.write(stripped)\n",
        "\n",
        "f_original.close()\n",
        "f_cleaned.close()\n",
        "\n",
        "five_words = []\n",
        "seven_words = []\n",
        "other_words = []\n",
        "\n",
        "f = open(\"300cleaned.txt\", \"r\")\n",
        "\n",
        "Lines = f.readlines()\n",
        "\n",
        "for line in Lines:\n",
        "    if len(line.strip('\\n')) == 5:   \n",
        "        five_words.append(line)\n",
        "    elif len(line.strip('\\n')) == 7:\n",
        "        seven_words.append(line)\n",
        "    else:\n",
        "        other_words.append(line)\n",
        "\n",
        "\n",
        "f.close()\n",
        "\n",
        "import random\n",
        "\n",
        "random.shuffle(five_words)\n",
        "random.shuffle(seven_words)\n",
        "random.shuffle(other_words)\n",
        "\n",
        "number = input(\"請問要產生五言還是七言(輸入數字5或7)：\")\n",
        "sentence = input(\"請問要產生絕句還是律詩(輸入數字4或8)：\")  #這是我想改編的內容，但測試失敗><\n",
        "userinput = input(\"請輸入藏頭詩的句首：\")\n",
        "\n",
        "\n",
        "\n",
        "acrostic = []\n",
        "\n",
        "for s in userinput:\n",
        "    \n",
        "    if int(number) == 5:             \n",
        "        for i in five_words:\n",
        "            if i.startswith(s):      \n",
        "                acrostic.append(i)   \n",
        "                break\n",
        "    elif int(number) == 7:\n",
        "        for i in seven_words:\n",
        "            if i.startswith(s):\n",
        "                acrostic.append(i)\n",
        "                break\n",
        "    else:\n",
        "        for i in other_words:\n",
        "            if i.startswith(s):\n",
        "                acrostic.append(i)\n",
        "                break\n",
        "          \n",
        "\n",
        "if len(acrostic) < len(userinput):\n",
        "    print(\"無法生成藏頭詩\")\n",
        "else:\n",
        "    print(\"產生的藏頭詩：\")\n",
        "    print(''.join(acrostic))\n"
      ],
      "execution_count": 5,
      "outputs": [
        {
          "output_type": "stream",
          "text": [
            "請問要產生五言還是七言(輸入數字5或7)：7\n",
            "請問要產生絕句還是律詩(輸入數字4或8)：8\n",
            "請輸入藏頭詩的句首：東山高中\n",
            "產生的藏頭詩：\n",
            "東風無力百花殘\n",
            "山開曠望旋平陸\n",
            "高帝子孫盡隆準\n",
            "中朝大官老於事\n",
            "\n"
          ],
          "name": "stdout"
        }
      ]
    }
  ]
}